{
 "cells": [
  {
   "cell_type": "code",
   "execution_count": 14,
   "metadata": {},
   "outputs": [
    {
     "name": "stdout",
     "output_type": "stream",
     "text": [
      "[-0.52035454 -0.79247129  1.54390812  0.99697281]\n",
      "-0.3021419928815895\n",
      "0.08112693255993914 0 0\n",
      "0.9431490258317969 1 1\n",
      "0.05868468528035897 0 0\n",
      "0.9551571057239667 1 1\n",
      "0.915072380910637 1 1\n",
      "0.8412305923569636 1 1\n",
      "0.029463897601089997 0 0\n",
      "0.955197458707257 1 1\n",
      "0.9524027235806989 1 1\n",
      "0.9119232080561419 1 1\n",
      "0.9419727263875688 1 1\n",
      "0.9083387906723781 1 1\n",
      "0.9535914562754864 1 1\n",
      "0.056415487983006295 0 0\n",
      "0.058364063531674955 0 0\n",
      "0.09239677246774693 0 0\n",
      "0.02922061246793308 0 0\n",
      "0.11311761948029056 0 0\n",
      "0.021259483270924022 0 0\n",
      "0.09736417834906952 0 0\n",
      "0.09054606980481128 0 0\n",
      "0.9094585117313606 1 1\n",
      "0.08826263085589134 0 0\n",
      "0.8888072104230884 1 1\n",
      "0.082069707561871 0 0\n"
     ]
    }
   ],
   "source": [
    "from sklearn import datasets\n",
    "from numpy import random\n",
    "from sklearn.model_selection import train_test_split\n",
    "import numpy as np\n",
    "\n",
    "def sigmoid(x):\n",
    "    return 1.0/(1.0 + np.exp(-x))\n",
    "\n",
    "def update(weight, bias, x, y, alpha):\n",
    "    predict = sigmoid(np.dot(x, weight))\n",
    "    gradient = (predict - y) * x\n",
    "    weight = weight - alpha * gradient\n",
    "    bias = bias - alpha * (predict - y)\n",
    "    return weight, bias\n",
    "\n",
    "def classify(x, weight):\n",
    "    z = sigmoid(np.dot(x, weight))\n",
    "    if z > 0.5:\n",
    "        return 1\n",
    "    else:\n",
    "        return 0\n",
    "\n",
    "def fit(X, y, iter_num = 1000, alpha = 0.01):\n",
    "    num_samples = len(y)\n",
    "    \n",
    "    random.seed(1)\n",
    "    weight = random.random(X.shape[1])\n",
    "    bias = 0.0\n",
    "    \n",
    "    for i in range(iter_num):\n",
    "        index = random.randint(num_samples)\n",
    "        x = X[index]\n",
    "        \n",
    "        weight, bias = update(weight, bias, x, y[index], alpha)\n",
    "    return weight, bias\n",
    "    \n",
    "if __name__=='__main__':\n",
    "    iris = datasets.load_iris()\n",
    "    X = iris.data[:100]\n",
    "    y = iris.target[:100]\n",
    "    \n",
    "    train_x, test_x, train_y, test_y = train_test_split(X, y, random_state=0)\n",
    "    \n",
    "#     clf = LogisticRegression(C=1.0, pen)\n",
    "     \n",
    "    weight, bias = fit(train_x, train_y)\n",
    "    print(weight)\n",
    "    print(bias)\n",
    "    \n",
    "    for i in range(len(test_y)):\n",
    "        x = test_x[i]\n",
    "        print(sigmoid(np.dot(x,weight)), classify(x, weight), test_y[i])\n",
    "        \n",
    "\n"
   ]
  },
  {
   "cell_type": "code",
   "execution_count": null,
   "metadata": {},
   "outputs": [],
   "source": []
  }
 ],
 "metadata": {
  "kernelspec": {
   "display_name": "Python 3",
   "language": "python",
   "name": "python3"
  },
  "language_info": {
   "codemirror_mode": {
    "name": "ipython",
    "version": 3
   },
   "file_extension": ".py",
   "mimetype": "text/x-python",
   "name": "python",
   "nbconvert_exporter": "python",
   "pygments_lexer": "ipython3",
   "version": "3.5.1"
  }
 },
 "nbformat": 4,
 "nbformat_minor": 2
}
